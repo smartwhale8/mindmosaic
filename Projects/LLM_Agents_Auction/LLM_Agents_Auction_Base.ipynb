{
  "cells": [
    {
      "cell_type": "markdown",
      "metadata": {
        "id": "rLpsM_3Hd41P"
      },
      "source": [
        "# ID2209 Final Project - Vickery Auction\n",
        "\n",
        "Number of bidders is set by changing numbidders variable\n",
        "\n",
        "\n",
        "\n"
      ]
    },
    {
      "cell_type": "code",
      "execution_count": null,
      "metadata": {
        "colab": {
          "base_uri": "https://localhost:8080/"
        },
        "id": "gk_9vWrpBJLu",
        "outputId": "f7343bb8-567c-434a-f4ca-42fa9c8193d1"
      },
      "outputs": [
        {
          "name": "stdout",
          "output_type": "stream",
          "text": [
            "Requirement already satisfied: pyautogen in /usr/local/lib/python3.10/dist-packages (0.2.3)\n",
            "Requirement already satisfied: diskcache in /usr/local/lib/python3.10/dist-packages (from pyautogen) (5.6.3)\n",
            "Requirement already satisfied: flaml in /usr/local/lib/python3.10/dist-packages (from pyautogen) (2.1.1)\n",
            "Requirement already satisfied: openai>=1.3 in /usr/local/lib/python3.10/dist-packages (from pyautogen) (1.6.1)\n",
            "Requirement already satisfied: pydantic<3,>=1.10 in /usr/local/lib/python3.10/dist-packages (from pyautogen) (1.10.13)\n",
            "Requirement already satisfied: python-dotenv in /usr/local/lib/python3.10/dist-packages (from pyautogen) (1.0.0)\n",
            "Requirement already satisfied: termcolor in /usr/local/lib/python3.10/dist-packages (from pyautogen) (2.4.0)\n",
            "Requirement already satisfied: tiktoken in /usr/local/lib/python3.10/dist-packages (from pyautogen) (0.5.2)\n",
            "Requirement already satisfied: anyio<5,>=3.5.0 in /usr/local/lib/python3.10/dist-packages (from openai>=1.3->pyautogen) (3.7.1)\n",
            "Requirement already satisfied: distro<2,>=1.7.0 in /usr/lib/python3/dist-packages (from openai>=1.3->pyautogen) (1.7.0)\n",
            "Requirement already satisfied: httpx<1,>=0.23.0 in /usr/local/lib/python3.10/dist-packages (from openai>=1.3->pyautogen) (0.26.0)\n",
            "Requirement already satisfied: sniffio in /usr/local/lib/python3.10/dist-packages (from openai>=1.3->pyautogen) (1.3.0)\n",
            "Requirement already satisfied: tqdm>4 in /usr/local/lib/python3.10/dist-packages (from openai>=1.3->pyautogen) (4.66.1)\n",
            "Requirement already satisfied: typing-extensions<5,>=4.7 in /usr/local/lib/python3.10/dist-packages (from openai>=1.3->pyautogen) (4.9.0)\n",
            "Requirement already satisfied: NumPy>=1.17.0rc1 in /usr/local/lib/python3.10/dist-packages (from flaml->pyautogen) (1.23.5)\n",
            "Requirement already satisfied: regex>=2022.1.18 in /usr/local/lib/python3.10/dist-packages (from tiktoken->pyautogen) (2023.6.3)\n",
            "Requirement already satisfied: requests>=2.26.0 in /usr/local/lib/python3.10/dist-packages (from tiktoken->pyautogen) (2.31.0)\n",
            "Requirement already satisfied: idna>=2.8 in /usr/local/lib/python3.10/dist-packages (from anyio<5,>=3.5.0->openai>=1.3->pyautogen) (3.6)\n",
            "Requirement already satisfied: exceptiongroup in /usr/local/lib/python3.10/dist-packages (from anyio<5,>=3.5.0->openai>=1.3->pyautogen) (1.2.0)\n",
            "Requirement already satisfied: certifi in /usr/local/lib/python3.10/dist-packages (from httpx<1,>=0.23.0->openai>=1.3->pyautogen) (2023.11.17)\n",
            "Requirement already satisfied: httpcore==1.* in /usr/local/lib/python3.10/dist-packages (from httpx<1,>=0.23.0->openai>=1.3->pyautogen) (1.0.2)\n",
            "Requirement already satisfied: h11<0.15,>=0.13 in /usr/local/lib/python3.10/dist-packages (from httpcore==1.*->httpx<1,>=0.23.0->openai>=1.3->pyautogen) (0.14.0)\n",
            "Requirement already satisfied: charset-normalizer<4,>=2 in /usr/local/lib/python3.10/dist-packages (from requests>=2.26.0->tiktoken->pyautogen) (3.3.2)\n",
            "Requirement already satisfied: urllib3<3,>=1.21.1 in /usr/local/lib/python3.10/dist-packages (from requests>=2.26.0->tiktoken->pyautogen) (2.0.7)\n"
          ]
        }
      ],
      "source": [
        "!pip install pyautogen\n",
        "import autogen\n",
        "config_list_gpt_35 = [\n",
        "  {\n",
        "    \"model\": \"gpt-3.5-turbo\",\n",
        "    \"api_version\": \"2023-03-01-preview\",\n",
        "    \"api_key\": \"<OPEN_AI_API_KEY>\",\n",
        "  }\n",
        "]"
      ]
    },
    {
      "cell_type": "markdown",
      "metadata": {
        "id": "xJZQ_2fY_EOB"
      },
      "source": [
        "#Construct Agents"
      ]
    },
    {
      "cell_type": "code",
      "execution_count": null,
      "metadata": {
        "id": "gV8-V1ReXIUW"
      },
      "outputs": [],
      "source": [
        "llm_config = {\"config_list\": config_list_gpt_35, \"cache_seed\": 42}"
      ]
    },
    {
      "cell_type": "code",
      "execution_count": null,
      "metadata": {
        "id": "GTlseT25_GhB"
      },
      "outputs": [],
      "source": [
        "bidder_names = [] #list of bidder names\n",
        "numbidders = 10 #number of bidders who'd like to participate in an auction\n",
        "bidders = [] #list of bidders\n",
        "\n",
        "\n",
        "#creates number of bidders specified by user and gives them instructions\n",
        "for i in range(numbidders):\n",
        "  bidder_names.append(\"bidder\" + str(i))\n",
        "  bidders.append(autogen.AssistantAgent(\n",
        "    name=bidder_names[i],\n",
        "    system_message = \"\"\"Your name is bidder\"\"\" + str(i) + \"\"\"and you are participating in a vickery auction as a bidder.\n",
        "The auction is conducted by {auction_agent}.\n",
        "You should start with a randomly generated bid value in the range of 500-1000 and send it to the auctioneer when requested.\n",
        "Do not include extra chit-chat\n",
        "\"\"\",\n",
        "    llm_config=llm_config,\n",
        "    max_consecutive_auto_reply = 1\n",
        "  ))\n",
        "\n",
        "#creates n auction_agent to run the auction\n",
        "auction_agent = autogen.ConversableAgent(\n",
        "    name=\"AUCTIONEER\",\n",
        "    system_message=\"\"\"\"You are an AI-powered Auctioneer.\n",
        "You cooridinate a Vickery auction.\n",
        "You receive bids from the different bidders.\n",
        "The winner is the agent with the higest bid and the amount they must pay is the second highest bid.\n",
        "when asked who won the auction return the answer in this format: Winner_name, int(amount).\n",
        "If there is a problem just return the word error and explain why there was an error.\"\"\",\n",
        "    llm_config=llm_config,\n",
        "    max_consecutive_auto_reply = 3\n",
        ")\n",
        "\n",
        "#creates a human admin for 'administrative' questions\n",
        "user_proxy = autogen.UserProxyAgent(\n",
        "   name=\"User_proxy\",\n",
        "   system_message=\"A human admin.\",\n",
        "   human_input_mode=\"NEVER\"\n",
        ")"
      ]
    },
    {
      "cell_type": "markdown",
      "metadata": {
        "id": "spnThRpdb0wf"
      },
      "source": [
        "#Single Round FIPA English Auction Interaction Protocol\n",
        "Initiator is the auctioneer\n",
        "\n",
        "Participants are the bidders interested in corresponding auction\n",
        "\n",
        "The auctioneer starts the auction and calls for proposals\n",
        "\n",
        "http://www.fipa.org/specs/fipa00031/XC00031F.html\n",
        "\n",
        "https://ceur-ws.org/Vol-627/lads_1.pdf"
      ]
    },
    {
      "cell_type": "code",
      "execution_count": null,
      "metadata": {
        "colab": {
          "base_uri": "https://localhost:8080/"
        },
        "id": "Jm0glbFmS5AF",
        "outputId": "98468ab1-dd36-40bc-f466-5d692d8ad2dc"
      },
      "outputs": [
        {
          "name": "stdout",
          "output_type": "stream",
          "text": [
            "AUCTIONEER (to bidder0):\n",
            "\n",
            "I'm starting a new Vickery auction for a valuable painting. Please send me your bid and your name.\n",
            "\n",
            "--------------------------------------------------------------------------------\n",
            "bidder0 (to AUCTIONEER):\n",
            "\n",
            "My name is bidder0 and I would like to participate in the Vickery auction for the valuable painting. My initial bid is $785.\n",
            "\n",
            "--------------------------------------------------------------------------------\n",
            "AUCTIONEER (to bidder1):\n",
            "\n",
            "I'm starting a new Vickery auction for a valuable painting. Please send me your bid and your name.\n",
            "\n",
            "--------------------------------------------------------------------------------\n",
            "bidder1 (to AUCTIONEER):\n",
            "\n",
            "My bid is 825. My name is bidder1.\n",
            "\n",
            "--------------------------------------------------------------------------------\n",
            "AUCTIONEER (to bidder2):\n",
            "\n",
            "I'm starting a new Vickery auction for a valuable painting. Please send me your bid and your name.\n",
            "\n",
            "--------------------------------------------------------------------------------\n",
            "bidder2 (to AUCTIONEER):\n",
            "\n",
            "My name is bidder2 and my bid for the valuable painting is $753.\n",
            "\n",
            "--------------------------------------------------------------------------------\n",
            "AUCTIONEER (to bidder3):\n",
            "\n",
            "I'm starting a new Vickery auction for a valuable painting. Please send me your bid and your name.\n",
            "\n",
            "--------------------------------------------------------------------------------\n",
            "bidder3 (to AUCTIONEER):\n",
            "\n",
            "My bid for the painting is 765. My name is bidder3.\n",
            "\n",
            "--------------------------------------------------------------------------------\n",
            "AUCTIONEER (to bidder4):\n",
            "\n",
            "I'm starting a new Vickery auction for a valuable painting. Please send me your bid and your name.\n",
            "\n",
            "--------------------------------------------------------------------------------\n",
            "bidder4 (to AUCTIONEER):\n",
            "\n",
            "My bid is 780 and my name is bidder4.\n",
            "\n",
            "--------------------------------------------------------------------------------\n",
            "AUCTIONEER (to bidder5):\n",
            "\n",
            "I'm starting a new Vickery auction for a valuable painting. Please send me your bid and your name.\n",
            "\n",
            "--------------------------------------------------------------------------------\n",
            "bidder5 (to AUCTIONEER):\n",
            "\n",
            "My bid for the valuable painting is $782. My name is bidder5.\n",
            "\n",
            "--------------------------------------------------------------------------------\n",
            "AUCTIONEER (to bidder6):\n",
            "\n",
            "I'm starting a new Vickery auction for a valuable painting. Please send me your bid and your name.\n",
            "\n",
            "--------------------------------------------------------------------------------\n",
            "bidder6 (to AUCTIONEER):\n",
            "\n",
            "My bid is 785 and my name is bidder6.\n",
            "\n",
            "--------------------------------------------------------------------------------\n",
            "AUCTIONEER (to bidder7):\n",
            "\n",
            "I'm starting a new Vickery auction for a valuable painting. Please send me your bid and your name.\n",
            "\n",
            "--------------------------------------------------------------------------------\n",
            "bidder7 (to AUCTIONEER):\n",
            "\n",
            "My bid is 742 and my name is bidder7.\n",
            "\n",
            "--------------------------------------------------------------------------------\n",
            "AUCTIONEER (to bidder8):\n",
            "\n",
            "I'm starting a new Vickery auction for a valuable painting. Please send me your bid and your name.\n",
            "\n",
            "--------------------------------------------------------------------------------\n",
            "bidder8 (to AUCTIONEER):\n",
            "\n",
            "My bid for the valuable painting is 802.\n",
            "\n",
            "--------------------------------------------------------------------------------\n",
            "AUCTIONEER (to bidder9):\n",
            "\n",
            "I'm starting a new Vickery auction for a valuable painting. Please send me your bid and your name.\n",
            "\n",
            "--------------------------------------------------------------------------------\n",
            "bidder9 (to AUCTIONEER):\n",
            "\n",
            "My bid for the valuable painting is $720. My name is bidder9.\n",
            "\n",
            "--------------------------------------------------------------------------------\n"
          ]
        }
      ],
      "source": [
        "auction_agent.clear_history()\n",
        "\n",
        "bids = []\n",
        "opening_message = \"I'm starting a new Vickery auction for a valuable painting. Please send me your bid and your name.\"\n",
        "for i in range(numbidders):\n",
        "  bidders[i].clear_history()\n",
        "  auction_agent.send(\n",
        "    message = opening_message,\n",
        "    recipient = bidders[i],\n",
        "    request_reply= True\n",
        "  )\n",
        "  bids.append(bidders[i].last_message())\n",
        "\n"
      ]
    },
    {
      "cell_type": "markdown",
      "metadata": {
        "id": "JcoL_P4bexsH"
      },
      "source": [
        "#Bid summarization\n",
        "This section is just for clarity"
      ]
    },
    {
      "cell_type": "code",
      "execution_count": null,
      "metadata": {
        "colab": {
          "base_uri": "https://localhost:8080/"
        },
        "id": "62jC5lBDTkzI",
        "outputId": "673be1a7-b8ff-4bf1-a155-7ce8a8f359a6"
      },
      "outputs": [
        {
          "name": "stdout",
          "output_type": "stream",
          "text": [
            "User_proxy (to AUCTIONEER):\n",
            "\n",
            "The bids received were [{'content': 'My name is bidder0 and I would like to participate in the Vickery auction for the valuable painting. My initial bid is $785.', 'role': 'assistant'}, {'content': 'My bid is 825. My name is bidder1.', 'role': 'assistant'}, {'content': 'My name is bidder2 and my bid for the valuable painting is $753.', 'role': 'assistant'}, {'content': 'My bid for the painting is 765. My name is bidder3.', 'role': 'assistant'}, {'content': 'My bid is 780 and my name is bidder4.', 'role': 'assistant'}, {'content': 'My bid for the valuable painting is $782. My name is bidder5.', 'role': 'assistant'}, {'content': 'My bid is 785 and my name is bidder6.', 'role': 'assistant'}, {'content': 'My bid is 742 and my name is bidder7.', 'role': 'assistant'}, {'content': 'My bid for the valuable painting is 802.', 'role': 'assistant'}, {'content': 'My bid for the valuable painting is $720. My name is bidder9.', 'role': 'assistant'}]\n",
            "Please summarize the bidders and their bids in a clear list\n",
            "\n",
            "--------------------------------------------------------------------------------\n",
            "\n",
            ">>>>>>>> USING AUTO REPLY...\n",
            "AUCTIONEER (to User_proxy):\n",
            "\n",
            "Sure! Here is a summary of the bidders and their bids:\n",
            "\n",
            "1. Bidder0: $785\n",
            "2. Bidder1: $825\n",
            "3. Bidder2: $753\n",
            "4. Bidder3: $765\n",
            "5. Bidder4: $780\n",
            "6. Bidder5: $782\n",
            "7. Bidder6: $785\n",
            "8. Bidder7: $742\n",
            "9. Bidder8: $802\n",
            "10. Bidder9: $720\n",
            "\n",
            "Please note that the bids are presented in the format of \"Bidder Name: Bid Amount\".\n",
            "\n",
            "--------------------------------------------------------------------------------\n"
          ]
        }
      ],
      "source": [
        "#Asks each auctioneer to summarize their bids (just for clarity)\n",
        "\n",
        "auction_agent.clear_history()\n",
        "user_proxy.clear_history()\n",
        "instruction_message = \"The bids received were \"+ str(bids) + \"\\nPlease summarize the bidders and their bids in a clear list\"\n",
        "user_proxy.send(\n",
        "  message = instruction_message,\n",
        "  recipient = auction_agent,\n",
        "  request_reply = True)"
      ]
    },
    {
      "cell_type": "markdown",
      "metadata": {
        "id": "HcKd5Kfre9oz"
      },
      "source": [
        "#Single Round FIPA English Auction Interaction Protocol (continued)\n",
        "Auctioneer accepts the winning proposal and rejects all others\n",
        "\n",
        "Informs winner of their win and how much they owe\n",
        "\n",
        "Informs losers the auction is over"
      ]
    },
    {
      "cell_type": "code",
      "execution_count": null,
      "metadata": {
        "colab": {
          "base_uri": "https://localhost:8080/"
        },
        "id": "g2_lys2lXlPv",
        "outputId": "e582c33c-8a69-45ad-cc0b-16c7c34fdbe4"
      },
      "outputs": [
        {
          "name": "stdout",
          "output_type": "stream",
          "text": [
            "User_proxy (to AUCTIONEER):\n",
            "\n",
            "The bids received were [{'content': 'My name is bidder0 and I would like to participate in the Vickery auction for the valuable painting. My initial bid is $785.', 'role': 'assistant'}, {'content': 'My bid is 825. My name is bidder1.', 'role': 'assistant'}, {'content': 'My name is bidder2 and my bid for the valuable painting is $753.', 'role': 'assistant'}, {'content': 'My bid for the painting is 765. My name is bidder3.', 'role': 'assistant'}, {'content': 'My bid is 780 and my name is bidder4.', 'role': 'assistant'}, {'content': 'My bid for the valuable painting is $782. My name is bidder5.', 'role': 'assistant'}, {'content': 'My bid is 785 and my name is bidder6.', 'role': 'assistant'}, {'content': 'My bid is 742 and my name is bidder7.', 'role': 'assistant'}, {'content': 'My bid for the valuable painting is 802.', 'role': 'assistant'}, {'content': 'My bid for the valuable painting is $720. My name is bidder9.', 'role': 'assistant'}]Who had the highest bid? And what was the second highest bid? Return the winner and the second highest bid which is the amount they'll need to pay in this format: (Winner_name, int(amount_to_pay)). Provide only the answer\n",
            "\n",
            "--------------------------------------------------------------------------------\n",
            "\n",
            ">>>>>>>> USING AUTO REPLY...\n",
            "AUCTIONEER (to User_proxy):\n",
            "\n",
            "(bidder1, 802)\n",
            "\n",
            "--------------------------------------------------------------------------------\n",
            "bidder1\n",
            "['bidder0', 'bidder1', 'bidder2', 'bidder3', 'bidder4', 'bidder5', 'bidder6', 'bidder7', 'bidder8', 'bidder9']\n",
            "HERE\n",
            "AUCTIONEER (to bidder1):\n",
            "\n",
            "You won the auction. You must pay $802\n",
            "\n",
            "--------------------------------------------------------------------------------\n",
            "AUCTIONEER (to bidder0):\n",
            "\n",
            "The auction is over. You have not won\n",
            "\n",
            "--------------------------------------------------------------------------------\n",
            "AUCTIONEER (to bidder2):\n",
            "\n",
            "The auction is over. You have not won\n",
            "\n",
            "--------------------------------------------------------------------------------\n",
            "AUCTIONEER (to bidder3):\n",
            "\n",
            "The auction is over. You have not won\n",
            "\n",
            "--------------------------------------------------------------------------------\n",
            "AUCTIONEER (to bidder4):\n",
            "\n",
            "The auction is over. You have not won\n",
            "\n",
            "--------------------------------------------------------------------------------\n",
            "AUCTIONEER (to bidder5):\n",
            "\n",
            "The auction is over. You have not won\n",
            "\n",
            "--------------------------------------------------------------------------------\n",
            "AUCTIONEER (to bidder6):\n",
            "\n",
            "The auction is over. You have not won\n",
            "\n",
            "--------------------------------------------------------------------------------\n",
            "AUCTIONEER (to bidder7):\n",
            "\n",
            "The auction is over. You have not won\n",
            "\n",
            "--------------------------------------------------------------------------------\n",
            "AUCTIONEER (to bidder8):\n",
            "\n",
            "The auction is over. You have not won\n",
            "\n",
            "--------------------------------------------------------------------------------\n",
            "AUCTIONEER (to bidder9):\n",
            "\n",
            "The auction is over. You have not won\n",
            "\n",
            "--------------------------------------------------------------------------------\n"
          ]
        }
      ],
      "source": [
        "#asks auctioneer to pick winner, display results, inform winner what they owe and the losers that the auction is over\n",
        "user_proxy.send(\n",
        "\n",
        "    message = \"The bids received were \"+ str(bids) + \"Who had the highest bid? And what was the second highest bid? Return the winner and the second highest bid which is the amount they'll need to pay in this format: (Winner_name, int(amount_to_pay)). Provide only the answer\",\n",
        "    recipient = auction_agent,\n",
        "    request_reply = True)\n",
        "winning_message_info = auction_agent.last_message(user_proxy)\n",
        "winning_message_info = winning_message_info['content']\n",
        "value = winning_message_info\n",
        "if(value == 'error'):\n",
        "  print('There was an error, please try again')\n",
        "else:\n",
        "  # Remove parentheses and split the string\n",
        "  value = value.strip('()')\n",
        "  bidder, payment = value.split(', ')\n",
        "\n",
        "  # Strip any extra spaces around the values\n",
        "  bidder = bidder.strip()\n",
        "  payment = payment.strip()\n",
        "\n",
        "  # Extracted bidder and payment\n",
        "  extracted_bidder = bidder  # Replace this with the extracted bidder variable\n",
        "\n",
        "  # Notify the winner\n",
        "  if extracted_bidder in bidder_names:\n",
        "      print('HERE')\n",
        "      winner_index = bidder_names.index(extracted_bidder)\n",
        "      auction_agent.send(\n",
        "        message = \"You won the auction. You must pay $\" + payment,\n",
        "        recipient = bidders[winner_index],\n",
        "        request_reply= True\n",
        "      )\n",
        "\n",
        "  # Notify the rest of the bidders\n",
        "  for index, bidder in enumerate(bidder_names):\n",
        "      if index != winner_index:\n",
        "        auction_agent.send(\n",
        "        message = \"The auction is over. You have not won\",\n",
        "        recipient = bidders[index],\n",
        "        request_reply= False\n",
        "        )"
      ]
    }
  ],
  "metadata": {
    "colab": {
      "provenance": []
    },
    "kernelspec": {
      "display_name": "Python 3",
      "name": "python3"
    },
    "language_info": {
      "name": "python"
    }
  },
  "nbformat": 4,
  "nbformat_minor": 0
}
