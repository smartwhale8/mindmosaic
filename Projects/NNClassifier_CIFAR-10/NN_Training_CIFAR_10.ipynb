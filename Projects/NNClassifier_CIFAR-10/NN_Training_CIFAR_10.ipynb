{
  "nbformat": 4,
  "nbformat_minor": 0,
  "metadata": {
    "colab": {
      "provenance": []
    },
    "kernelspec": {
      "name": "python3",
      "display_name": "Python 3"
    },
    "language_info": {
      "name": "python"
    }
  },
  "cells": [
    {
      "cell_type": "markdown",
      "source": [
        "#Goal: Classify data from the CIFAR-10 dataset\n",
        "Approach: Training an image classifier using a Convolution Neural Network (CNN)\n",
        "\n",
        "Steps:\n",
        "1.   Import necessary libraries\n",
        "2.   Load CIFAR-10 datasets\n",
        "3.   Define Data Transformations\n",
        "4.   Create Data Loaders\n",
        "5.   Define the CNN Architecture\n",
        "6.   Instantiate the Model\n",
        "7.   Define Loss Function and Optimizer\n",
        "8.   Train the Model\n",
        "9.   Evaluate the Model\n",
        "10.  Adjust Hyperparameters\n",
        "\n"
      ],
      "metadata": {
        "id": "jMoxKng10yBd"
      }
    },
    {
      "cell_type": "markdown",
      "source": [
        "#Step 1: Import necessary libraries\n",
        "We will use torch and torchvision libraries which are widely used for deep learning and computer vision tasks, respectively.\n",
        "\n",
        "###PyTorch:\n",
        "'torch', a core deep learning library in PyTorch provides tensor computations which makes it easy to define and train neural networks.\n",
        "It provides automatic differentiation functionality through its 'autograd' module, which computes gradients of tensors with respect to a given loss function. This simplifies the process of implementing backpropagation for training neural networks.\n",
        "\n",
        "###Torchvision\n",
        "It is a part of the PyTorch ecosystem providing collection of utilities, datasets, models and transformations specifically designed for computer vision tasks.\n",
        "It provides easy access to popular datasets for computer vision tasks, such as CIFAR-10, MNIST, and ImageNet, along with data loaders to efficiently load and process the data.\n",
        "It offers a wide rnage of image transformation functions for data augmentation, preprocessing, and normalization. These transformations when applied to images, enhance model robustness and generalization."
      ],
      "metadata": {
        "id": "liMczjDr1iyd"
      }
    },
    {
      "cell_type": "code",
      "source": [
        "import torch\n",
        "import torchvision\n",
        "import torchvision.transforms as transforms\n",
        "import torch.nn as nn\n",
        "import torch.optim as optim"
      ],
      "metadata": {
        "id": "0d7vSu19UNoj"
      },
      "execution_count": null,
      "outputs": []
    },
    {
      "cell_type": "markdown",
      "source": [
        "# Step 2: Load CIFAR-10 datasets\n",
        "\n",
        "# Step 3: Define Transformations\n",
        "\n",
        "# Step 4: Create Data Loaders\n",
        "The output of torchvision are PILImages of range[0,1], so we transform them to Tensors of normalized range [-1,1].\n",
        "\n",
        "_Learning Tip: This process make the data more suitable for training machine learning models._"
      ],
      "metadata": {
        "id": "JeLRHnVWY8mN"
      }
    },
    {
      "cell_type": "code",
      "execution_count": null,
      "metadata": {
        "id": "NnXmZmMP6wH1",
        "colab": {
          "base_uri": "https://localhost:8080/"
        },
        "outputId": "b28751b1-eb6a-4ebc-b89f-696aaf5cd442"
      },
      "outputs": [
        {
          "output_type": "stream",
          "name": "stdout",
          "text": [
            "Files already downloaded and verified\n",
            "Files already downloaded and verified\n"
          ]
        }
      ],
      "source": [
        "#normalization trasformation: Mean(0.5, 0.5, 0.5) and standard deviation (0.5, 0.5, 0.5)\n",
        "transform = transforms.Compose(\n",
        "    [transforms.ToTensor(),\n",
        "     transforms.Normalize((0.5, 0.5, 0.5), (0.5, 0.5, 0.5))])\n",
        "\n",
        "#use inbuilt dataset CIFAR-10\n",
        "#The same transformation applied to both Training and Test datasets\n",
        "trainset = torchvision.datasets.CIFAR10(root='./data', train=True, download=True, transform=transform)\n",
        "trainloader = torch.utils.data.DataLoader(trainset, batch_size=4, shuffle=True, num_workers=2)\n",
        "\n",
        "testset = torchvision.datasets.CIFAR10(root='./data', train=False, download=True, transform=transform)\n",
        "testloader = torch.utils.data.DataLoader(testset, batch_size=4, shuffle=False, num_workers=2)\n",
        "\n",
        "#The 10 classes from the CIFAR-10 database\n",
        "classes = ('plane', 'car', 'bird', 'cat', 'deer', 'dog', 'frog', 'horse', 'ship', 'truck')"
      ]
    },
    {
      "cell_type": "markdown",
      "source": [
        "Display some images from the dataset.\n",
        "Remember we need to unnormalize the images back to bring the pixel values back to original.\n"
      ],
      "metadata": {
        "id": "Xm16mIjPq37h"
      }
    },
    {
      "cell_type": "code",
      "source": [
        "import matplotlib.pyplot as plt\n",
        "import numpy as np\n",
        "\n",
        "#function to show image\n",
        "def image_show(img):\n",
        "  img = img/2 + 0.5 #unnormalize\n",
        "  npimg = img.numpy()\n",
        "  plt.imshow(np.transpose(npimg, (1,2,0)))\n",
        "\n",
        "#get some random training images\n",
        "dataiter = iter(trainloader)\n",
        "images, labels = dataiter.__next__()\n",
        "\n",
        "#show images\n",
        "image_show(torchvision.utils.make_grid(images))\n",
        "\n",
        "#print labels\n",
        "print(' '.join('%5s' % classes[labels[j]] for j in range(4)))"
      ],
      "metadata": {
        "colab": {
          "base_uri": "https://localhost:8080/",
          "height": 210
        },
        "id": "4WZY9Ggtq2WS",
        "outputId": "f1a8eaf6-44d2-4d68-d5ae-364adecb009a"
      },
      "execution_count": null,
      "outputs": [
        {
          "output_type": "stream",
          "name": "stdout",
          "text": [
            " ship  frog truck horse\n"
          ]
        },
        {
          "output_type": "display_data",
          "data": {
            "text/plain": [
              "<Figure size 640x480 with 1 Axes>"
            ],
            "image/png": "[encoded data removed]"
          },
          "metadata": {}
        }
      ]
    },
    {
      "cell_type": "markdown",
      "source": [
        "# Step 5: Define the CNN Architecture\n",
        "\n",
        "\n",
        "Our CNN architecture will consist of alternative convolutional and pooling layers for feature extraction, followed by fully connected layers for classification, with ReLU activation functions applied after each layer to introduce non-linearity.\n",
        "\n",
        "Below we describe in detail the operations performed by each layer on the input data.\n",
        "\n",
        "1.   Convolutional Layers (**```nn.Conv2d```**)\n",
        "*   **`self.conv1`**: This is the first convolutional layer. It takes an input with 3 channels (representing the 3 RGB channels of the image) and applies 6 filters of size 5x5. The output of this layer will have 6 channels.\n",
        "*   **`self.conv2`**: This is the second convolutional layer. It takes the output of the first convolutional layer (which has 6 channels) and applies 16 filters of size 5x5. The output of this layer will have 16 channels.\n",
        "\n",
        "2.   Pooling Layers (**```nn.MaxPool2d```**)\n",
        "*    **`self.pool`**: This is the max pooling layer. It's job is to downsample feature maps and reduce spatial dimensions (width and height) of the input by taking the maximum value within each window. In this case, it applies a 2x2 max pooling operation with a stride of 2, effectively halving the size of the input along both dimensions.\n",
        "\n",
        "3.   Fully Connected Layers (**``nn.Liner``**):\n",
        "*   **`self.fc1`**: This is the first fully connected (or dense) layer. It takes the output of the last convolutional layer after flattening it into a vector (with 1655 dimensions) and applies a linear transformation to produce a vector of size 120.\n",
        "*   **`self.fc2`**: This is the second fully connected layer. It takes the output of the previous layer (which has 120 dimensions) and applies another linear transformation to produce a vector of size 84.\n",
        "*   **`self.fc3`**: This is the final fully connected layer. It takes the output of the previous convolutional layer (which has 84 dimensions) and applies another linear transformation to produce the final output vector of size 10, corresponding to the 10 classes in the CIFAR-10 dataset.\n",
        "\n",
        "4.   Activation Functions (**`F.relu`**)\n",
        "*    ReLU (Rectified Linear Unit) is used as the activation function after each convolutional and fully connected layer except for the final output layer. ReLU introduces non-linearity into the network by replacing the negative pixel values with 0, helping the model learn complex patterns in the data.\n",
        "\n",
        "\n",
        "5. Flattening Operation (**`x.view`**)\n",
        "*   Before passing the output of the last convolution layer to the fully connected layers, a flattening operation is applied to convert the 3D tensor into a 1D vector. This is necessary because fully connected layers expect their input to be one-dimensional.\n",
        "\n",
        "\n"
      ],
      "metadata": {
        "id": "BRN8cuk6v5x6"
      }
    },
    {
      "cell_type": "markdown",
      "source": [
        "### Forward Pass\n",
        "\n",
        "The Forward pass function serves as the blueprint for the CNN architecture, defining how input data traverses through the network and undergoes transformation at each layer. It encapsulates the connectivity, operations, and activations that characterize the architecture's behavior during the forward pass.\n",
        "\n",
        "The **`forward`** function defines the sequence of operations or the order that the input data goes through as it passes through the layers of the neural network during the forward pass. This function is passed automatically when input data is passed to the network, and it computes the output of the network based on the current parameters and input data."
      ],
      "metadata": {
        "id": "P838bdqQMTqz"
      }
    },
    {
      "cell_type": "code",
      "source": [
        "import torch.nn.functional as F"
      ],
      "metadata": {
        "id": "pv9CR5PCwCJu"
      },
      "execution_count": null,
      "outputs": []
    },
    {
      "cell_type": "code",
      "source": [
        "class Net(nn.Module):\n",
        "  def __init__(self):\n",
        "    super(Net, self).__init__()\n",
        "\n",
        "    #Define the layers:\n",
        "    self.conv1 = nn.Conv2d(3, 6, 5)\n",
        "    self.pool = nn.MaxPool2d(2,2)\n",
        "    self.conv2 = nn.Conv2d(6, 16, 5)\n",
        "    self.fc1 = nn.Linear(16*5*5, 120)\n",
        "    self.fc2 = nn.Linear(120, 84)\n",
        "    self.fc3 = nn.Linear(84, 10) #to match the 10 classes in CIFAR-10\n",
        "\n",
        "  def forward(self, x):\n",
        "    x = self.pool(F.relu(self.conv1(x)))\n",
        "    x = self.pool(F.relu(self.conv2(x)))\n",
        "    x = x.view(-1, 16 * 5 * 5)\n",
        "    x = F.relu(self.fc1(x))\n",
        "    x = F.relu(self.fc2(x))\n",
        "    x = self.fc3(x)\n",
        "    return x\n"
      ],
      "metadata": {
        "id": "QZTrMnZu6YXO"
      },
      "execution_count": null,
      "outputs": []
    },
    {
      "cell_type": "markdown",
      "source": [
        "# Step 6: Instantiate the Model\n",
        "\n",
        "The custom CNN Model architecture, defined using `Net` class is instantiated next. This class inherits from **`nn.Module`** which is the base class for all neural network modules in PyTorch.\n",
        "\n",
        "The instance created after instantiating the Net class, namely, **`net`** represents a specific neural network model with its own set of parameters (weights and biases) and architecture defiend by the **`forward`** function.\n",
        "\n",
        "During the initialization, the constructor (**`__init__`** method) of the **`Net`** class is called to initialize the model."
      ],
      "metadata": {
        "id": "aLOqyHEkQ8zT"
      }
    },
    {
      "cell_type": "code",
      "source": [
        "net = Net()"
      ],
      "metadata": {
        "id": "fBR9Tfa-RD9x"
      },
      "execution_count": null,
      "outputs": []
    },
    {
      "cell_type": "markdown",
      "source": [
        "# Step 7: Define a Loss function and Optimizer\n",
        "\n",
        "Before we can proceed with training the neural network model, we need a loss function and optimizer.\n",
        "We shall use a Classification Cross-Entropy Loss and Stochastic Gradient Descent (SGD) with momentum as the optimizer. The Cross Entropy Loss is used to compute the loss between the model's predictions and the ground truth labels, while SGD is used to update the model parameters based on the computed gradients of the loss function.\n",
        "\n",
        "Let's understand them in more details:\n",
        "1.    Defining the Loss Function:\n",
        "*     We use **`torch.nn`** module's CrossEntropyLoss class. This loss function is commonly used for multi-class classification problems like the one we have with CIFAR-10. The Cross-Entropy Loss computes the softmax activation internally, so the output of the model should be raw digits rather than softmax probabilities.\n",
        "\n",
        "2.    Defining the Optimizer:\n",
        "*    We create an instance of the stochastic gradient descent (SGD) optimizer from the **`torch.optim`** module. SGD is a commonly used optimization algorithm for training neural networks\n"
      ],
      "metadata": {
        "id": "qQWpfbJESqZK"
      }
    },
    {
      "cell_type": "code",
      "source": [
        "#The loss function\n",
        "criterion = nn.CrossEntropyLoss()\n",
        "\n",
        "#net.parameters: the parameters of the model are provided to the Optimizer so that it can update them during the training to minimize the loss\n",
        "\n",
        "# lr specifies the learning rate, which is the size of the step the optimizer takes during parameter updates.\n",
        "#     A smaller learning rate generally leads to slower but more precise convergence.\n",
        "\n",
        "#momentum, as the name suggests, adds momentum to the gradient descent update. It helps accelerate convergence by dampening oscillations and making updates\n",
        "#     more consistent in direction. A typical value is between 0.9 and 0.99\n",
        "optimizer = optim.SGD(net.parameters(), lr=0.001, momentum=0.9)"
      ],
      "metadata": {
        "id": "krJg9TD0VXy3"
      },
      "execution_count": null,
      "outputs": []
    },
    {
      "cell_type": "markdown",
      "source": [
        "#Step 8:\n",
        "Training the Model\n",
        "\n",
        "Broadly, we follow the following steps:\n",
        "\n",
        "* We iterate multiple times over the dataset, each pass through the dataset is referred to as an epoch.\n",
        "\n",
        "* We keep track of the cumulative loss over mini-batches within an epoch, initialized to 0 at the beginning of each epoch.\n",
        "\n",
        "* We have a loop to go through mini-batches of data from the training dataset. Iterating over trainloader provides a mini-batch (of size 4, which was used in creating the trainloader at the beginning of this project). **`data`** contains the input-output pairs, while **`i`** is the index of the current mini-batch.\n",
        "\n",
        "* We unpack the input data and the corresponding labels from the current mini-batch.\n",
        "\n",
        "* Clearing the gradients of all optimized parameters: the gradients must be cleared before each mini-batch to avoid accumulation from previous mini-batches.\n",
        "\n",
        "* **`outputs = net(inputs)`** is the forward pass of the neural network model. Passing the input data through the neural network model, it provides the predicted outputs. The forward pass computes the output _`logits`_ for each input example.\n",
        "\n",
        "* Computing loss: The loss is calculated between the predicted outpt and the actual label using the CrossEntropy loss function, **`criterion`**.\n",
        "\n",
        "* Backpropagation: **`loss.backward()`** computes the gradients of the loss with respect to the model parameters, enabling backpropagation. Gradients are calculated for all parameters that have **`requires_grad=True`**.\n",
        "\n",
        "* Updating parameters: **`optimizer.step()`** updates the model parameters based on the computed gradients and the optimization algorithm (SGD in this case). This step adjusts the parameters to minimze the loss.\n",
        "\n",
        "\n"
      ],
      "metadata": {
        "id": "-n4dunnCXh9y"
      }
    },
    {
      "cell_type": "code",
      "source": [
        "for epoch in range(2): #loop over the dataset multiple times\n",
        "  running_loss = 0.0\n",
        "  for i, data in enumerate(trainloader, 0):\n",
        "    #get the inputs; data is a list of [inputs, labels]\n",
        "    inputs, labels = data\n",
        "\n",
        "    #zero the parameter gradients\n",
        "    optimizer.zero_grad()\n",
        "\n",
        "    #forward + backward + optimize (update of params)\n",
        "    outputs = net(inputs) #predit output\n",
        "    loss = criterion(outputs, labels) #computing loss between predicted output and actual labels\n",
        "    loss.backward() #backpropagation\n",
        "    optimizer.step() #updating the parameters\n",
        "\n",
        "    #print statistics\n",
        "    running_loss += loss.item()\n",
        "    if i % 2000 == 1999: #print every 2000 mini-batches\n",
        "      print('[%d, %5d] loss: %.3f' % (epoch + 1, i+1, running_loss/2000))\n",
        "      running_loss = 0.0\n",
        "print('Finished Training')\n",
        "\n"
      ],
      "metadata": {
        "colab": {
          "base_uri": "https://localhost:8080/"
        },
        "id": "RTaJzHG0Sluu",
        "outputId": "a2afa3ef-a1d9-4450-8cca-388b9a09f99a"
      },
      "execution_count": null,
      "outputs": [
        {
          "output_type": "stream",
          "name": "stdout",
          "text": [
            "[1,  2000] loss: 1.201\n",
            "[1,  4000] loss: 1.184\n",
            "[1,  6000] loss: 1.171\n",
            "[1,  8000] loss: 1.175\n",
            "[1, 10000] loss: 1.157\n",
            "[1, 12000] loss: 1.127\n",
            "[2,  2000] loss: 1.089\n",
            "[2,  4000] loss: 1.092\n",
            "[2,  6000] loss: 1.058\n",
            "[2,  8000] loss: 1.070\n",
            "[2, 10000] loss: 1.068\n",
            "[2, 12000] loss: 1.085\n",
            "Finished Training\n"
          ]
        }
      ]
    },
    {
      "cell_type": "markdown",
      "source": [
        "#Step 9: Evaluate the Model\n",
        "\n",
        "Next, we evaluate the trained model on the test dataset to assess its performance. We shall make use of metrices such as accuracy, precision, recall and F1-score.\n",
        "\n",
        "We pass the input images from the test dataset through the trained neural network model(**`net`**) to obtain the predicted outputs. The outputs are raw logits for each class.\n",
        "\n",
        "**`torch.max(outputs.data, 1`** computes the maximum value along the second dimension of the output tensor, which corresponds to the predicted class indices. This function also returns the maximum value, but as we are not interested in it, we discard by using `_`. We only need the indices, which we store in **`predicted`**.\n",
        "\n",
        "_A note on the **``torch.nograd``**:_\n",
        "\n",
        "_This is a context manager provided by PyTorch. Inside this block, the gradient calculation is disabled. This is useful during inference because we don't need to compute gradients for the test data, and it saves memory and computation time._\n"
      ],
      "metadata": {
        "id": "9qlbChSukgfI"
      }
    },
    {
      "cell_type": "code",
      "source": [
        "correct = 0   # counter to keep track of the correcly predicted labels\n",
        "total = 0     #initialize the counter to keep track of the total number of samples in the test dataset\n",
        "\n",
        "with torch.no_grad():\n",
        "  for data in testloader: #now its the time to use the test dataset\n",
        "    images, labels = data\n",
        "    outputs = net(images)\n",
        "    _, predicted = torch.max(outputs.data, 1)\n",
        "    total += labels.size(0) #adds the number of labels in the current mini-batch to the total count. `labels.size(0)` gives the batch size.\n",
        "\n",
        "    #calculates the number of correctly predicted labels in the current mini-batch and adds it to the correct count.\n",
        "    #(predicted == labels) crates a tensor of boolean values indicating wheather each prediction is correct or not.\n",
        "    correct += (predicted == labels).sum().item() #.sum().item() sums up the correct predictions and coverts the result to a Python scalar\n",
        "\n",
        "print('Accuracy of the network on the 10000 test images: %d %%' % (100 * correct/total))"
      ],
      "metadata": {
        "colab": {
          "base_uri": "https://localhost:8080/"
        },
        "id": "A3UZ2xAgk65I",
        "outputId": "4a967ba6-b4c6-4ac2-f12d-dd0da416a6df"
      },
      "execution_count": null,
      "outputs": [
        {
          "output_type": "stream",
          "name": "stdout",
          "text": [
            "Accuracy of the network on the 10000 test images: 61 %\n"
          ]
        }
      ]
    },
    {
      "cell_type": "markdown",
      "source": [
        "The accuracy obtained is certainly quite low. But this is not the end of the world and definitely gives us a taste of what to expect when a new model is created to handle a task in the real-world.\n",
        "In fact, this provides a great opportunity to learn and figure out various ways how the model could be further improved. It would also give us a chance to study **``hyperparameters``**.\n",
        "\n",
        "Hyperparameters in neural networks are the parameters which are set before the learning process beings. Unlike model parameters which are learned during the training phase, hyperparameters are crucial to control the behavior of the training algorigthm and the structure of the neural network itself. The performance, efficiency, and complexity of a neural network can be significantly influenced by the choice of hyperparameters.\n",
        "\n",
        "##Next steps:\n",
        "1. Investigate how the accuracy of the model can be improved.\n",
        "2. Have a look into hyperparameters.\n",
        "3. Derive other performance metrices of the Neural Network model, such as precision, recall, f1-score etc.\n"
      ],
      "metadata": {
        "id": "zdi5iwSFBJLT"
      }
    }
  ]
}